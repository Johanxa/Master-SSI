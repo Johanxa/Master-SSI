{
 "cells": [
  {
   "attachments": {},
   "cell_type": "markdown",
   "id": "e7ffc782",
   "metadata": {},
   "source": [
    "# PROJET CRYPTOGRAPHY\n",
    "# 1- Partie Code Source \n",
    "\n",
    "\n"
   ]
  },
  {
   "attachments": {},
   "cell_type": "markdown",
   "id": "b55585f7",
   "metadata": {},
   "source": [
    "# Team Members :\n",
    "- Mrabet Ameur Hadjer 191931080198\n",
    "- Bouta Ali\n",
    "- Ali-khodja Myriam Johanna \n",
    "- Abouab Walid\n",
    "- Benosmane Riad"
   ]
  },
  {
   "attachments": {},
   "cell_type": "markdown",
   "id": "a938e818",
   "metadata": {},
   "source": [
    "- # Cette partie est dédiée au chiffrement et déchiffrement RSA en utilisant toutes les optimisations possibles ainsi les bases de l'arithmétique modulaire :"
   ]
  },
  {
   "cell_type": "code",
   "execution_count": 1,
   "id": "10224e61",
   "metadata": {},
   "outputs": [],
   "source": [
    "import random, sys, os, math, base64 \n",
    "from cryptography.fernet import Fernet"
   ]
  },
  {
   "cell_type": "markdown",
   "id": "fdcf32c8",
   "metadata": {},
   "source": [
    "# Part 1: Prime numbers and modular inverse"
   ]
  },
  {
   "cell_type": "markdown",
   "id": "90293a48",
   "metadata": {},
   "source": [
    "# Computation of Greatest Common Divisor of a and b using Euclid's Algorithm"
   ]
  },
  {
   "cell_type": "code",
   "execution_count": 2,
   "id": "6f03f505",
   "metadata": {},
   "outputs": [],
   "source": [
    "def gcd(a, b):\n",
    "    # Return the Greatest Common Divisor of a and b using Euclid's Algorithm\n",
    "    while a != 0:\n",
    "        a, b = b % a, a        \n",
    "    return b"
   ]
  },
  {
   "cell_type": "markdown",
   "id": "5770b037",
   "metadata": {},
   "source": [
    "**Question:** Check the Euclid's Algorithm and try different values"
   ]
  },
  {
   "cell_type": "code",
   "execution_count": 3,
   "id": "3a72cdb4",
   "metadata": {},
   "outputs": [
    {
     "data": {
      "text/plain": [
       "3"
      ]
     },
     "execution_count": 3,
     "metadata": {},
     "output_type": "execute_result"
    }
   ],
   "source": [
    "#This is an example\n",
    "gcd(150,3)"
   ]
  },
  {
   "cell_type": "markdown",
   "id": "101fb021",
   "metadata": {},
   "source": [
    "# Computation of the modular inverse of a % m"
   ]
  },
  {
   "cell_type": "code",
   "execution_count": 4,
   "id": "21a90b23",
   "metadata": {},
   "outputs": [],
   "source": [
    "def findModInverse(a, m):\n",
    "    # Return the modular inverse of a % m, which is\n",
    "    # the number x such that a*x % m = 1\n",
    "\n",
    "    if gcd(a, m) != 1:\n",
    "        return None # No mod inverse exists if a & m aren't relatively prime.\n",
    "\n",
    "    # Calculate using the Extended Euclidean Algorithm:\n",
    "    u1, u2, u3 = 1, 0, a\n",
    "    v1, v2, v3 = 0, 1, m\n",
    "    while v3 != 0:\n",
    "        q = u3 // v3 # Note that // is the integer division operator\n",
    "        v1, v2, v3, u1, u2, u3 = (u1 - q * v1), (u2 - q * v2), (u3 - q * v3), v1, v2, v3\n",
    "    return u1 % m"
   ]
  },
  {
   "cell_type": "markdown",
   "id": "4a57e03c",
   "metadata": {},
   "source": [
    "**Question:** Check the Extended Euclidean Algorithm and try different values"
   ]
  },
  {
   "cell_type": "code",
   "execution_count": 5,
   "id": "8acf7729",
   "metadata": {},
   "outputs": [
    {
     "data": {
      "text/plain": [
       "2"
      ]
     },
     "execution_count": 5,
     "metadata": {},
     "output_type": "execute_result"
    }
   ],
   "source": [
    "#This is an example\n",
    "findModInverse(4, 7)"
   ]
  },
  {
   "cell_type": "markdown",
   "id": "85599759",
   "metadata": {},
   "source": [
    "# Algorithms to verify if a number is a prime number"
   ]
  },
  {
   "cell_type": "code",
   "execution_count": 6,
   "id": "a062d145",
   "metadata": {},
   "outputs": [],
   "source": [
    "def isPrimeTrialDiv(num):\n",
    "    # Returns True if num is a prime number, otherwise False.\n",
    "\n",
    "    # Uses the trial division algorithm for testing primality.\n",
    "\n",
    "    # All numbers less than 2 are not prime:\n",
    "    if num < 2:\n",
    "        return False\n",
    "\n",
    "    # See if num is divisible by any number up to the square root of num:\n",
    "    for i in range(2, int(math.sqrt(num)) + 1):\n",
    "        if num % i == 0:\n",
    "            return False\n",
    "    return True"
   ]
  },
  {
   "cell_type": "markdown",
   "id": "af5b0843",
   "metadata": {},
   "source": [
    "**Question:** Check the algorithm and try different values"
   ]
  },
  {
   "cell_type": "code",
   "execution_count": 7,
   "id": "6b02e515",
   "metadata": {},
   "outputs": [
    {
     "data": {
      "text/plain": [
       "True"
      ]
     },
     "execution_count": 7,
     "metadata": {},
     "output_type": "execute_result"
    }
   ],
   "source": [
    "#This is an example\n",
    "isPrimeTrialDiv(13)"
   ]
  },
  {
   "cell_type": "code",
   "execution_count": 8,
   "id": "d0b17d56",
   "metadata": {},
   "outputs": [],
   "source": [
    "def primeSieve(sieveSize):\n",
    "    # Returns a list of prime numbers calculated using\n",
    "    # the Sieve of Eratosthenes algorithm.\n",
    "\n",
    "    sieve = [True] * sieveSize\n",
    "    sieve[0] = False # Zero and one are not prime numbers.\n",
    "    sieve[1] = False\n",
    "\n",
    "    # Create the sieve:\n",
    "    for i in range(2, int(math.sqrt(sieveSize)) + 1):\n",
    "        pointer = i * 2\n",
    "        while pointer < sieveSize:\n",
    "            sieve[pointer] = False\n",
    "            pointer += i\n",
    "\n",
    "    # Compile the list of primes:\n",
    "    primes = []\n",
    "    for i in range(sieveSize):\n",
    "        if sieve[i] == True:\n",
    "            primes.append(i)\n",
    "\n",
    "    return primes"
   ]
  },
  {
   "cell_type": "markdown",
   "id": "b04ed181",
   "metadata": {},
   "source": [
    "**Question:** Try different values"
   ]
  },
  {
   "cell_type": "code",
   "execution_count": 9,
   "id": "85b79233",
   "metadata": {},
   "outputs": [
    {
     "name": "stdout",
     "output_type": "stream",
     "text": [
      "[2, 3, 5, 7, 11, 13, 17, 19, 23, 29, 31, 37, 41, 43, 47, 53, 59, 61, 67, 71, 73, 79, 83, 89, 97, 101, 103, 107, 109, 113, 127, 131, 137, 139, 149, 151, 157, 163, 167, 173, 179, 181, 191, 193, 197, 199]\n"
     ]
    }
   ],
   "source": [
    "#This is an example\n",
    "n = primeSieve(200)\n",
    "print(n)\n"
   ]
  },
  {
   "cell_type": "markdown",
   "id": "0ee84e13",
   "metadata": {},
   "source": [
    "# Rabin-Miller Algorithm"
   ]
  },
  {
   "cell_type": "code",
   "execution_count": 10,
   "id": "13ac3c7e",
   "metadata": {},
   "outputs": [],
   "source": [
    "def rabinMiller(num):\n",
    "    # Returns True if num is a prime number.\n",
    "    if num % 2 == 0 or num < 2:\n",
    "        return False # Rabin-Miller doesn't work on even integers.\n",
    "    if num == 3:\n",
    "        return True\n",
    "    s = num - 1\n",
    "    t = 0\n",
    "    while s % 2 == 0:\n",
    "        # Keep halving s until it is odd (and use t\n",
    "        # to count how many times we halve s):\n",
    "        s = s // 2\n",
    "        t += 1\n",
    "    for trials in range(5): # Try to falsify num's primality 5 times.\n",
    "        a = random.randrange(2, num - 1)\n",
    "        v = pow(a, s, num)\n",
    "        if v != 1: # (This test does not apply if v is 1.)\n",
    "            i = 0\n",
    "            while v != (num - 1):\n",
    "                if i == t - 1:\n",
    "                    return False\n",
    "                else:\n",
    "                    i = i + 1\n",
    "                    v = (v ** 2) % num\n",
    "    return True"
   ]
  },
  {
   "cell_type": "markdown",
   "id": "6c508731",
   "metadata": {},
   "source": [
    "**Question:** How works the algorithm? Instrument the algorithm and try different values."
   ]
  },
  {
   "cell_type": "code",
   "execution_count": 11,
   "id": "21d6605d",
   "metadata": {},
   "outputs": [
    {
     "data": {
      "text/plain": [
       "True"
      ]
     },
     "execution_count": 11,
     "metadata": {},
     "output_type": "execute_result"
    }
   ],
   "source": [
    "#This is an example\n",
    "rabinMiller(37)"
   ]
  },
  {
   "cell_type": "markdown",
   "id": "84308ccf",
   "metadata": {},
   "source": [
    "# Optimized prime number verifier algorithm"
   ]
  },
  {
   "cell_type": "code",
   "execution_count": 12,
   "id": "cbe7df26",
   "metadata": {},
   "outputs": [
    {
     "name": "stdout",
     "output_type": "stream",
     "text": [
      "[2, 3, 5, 7, 11, 13, 17, 19, 23, 29, 31, 37, 41, 43, 47, 53, 59, 61, 67, 71, 73, 79, 83, 89, 97]\n"
     ]
    }
   ],
   "source": [
    "# Most of the time we can quickly determine if num is not prime\n",
    "# by dividing by the first few dozen prime numbers. This is quicker\n",
    "# than rabinMiller(), but does not detect all composites.\n",
    "LOW_PRIMES = primeSieve(100)\n",
    "print(LOW_PRIMES)"
   ]
  },
  {
   "cell_type": "code",
   "execution_count": 13,
   "id": "2a774dfc",
   "metadata": {},
   "outputs": [],
   "source": [
    "def isPrime(num):\n",
    "    # Return True if num is a prime number. This function does a quicker\n",
    "    # prime number check before calling rabinMiller().\n",
    "    if (num < 2):\n",
    "        return False # 0, 1, and negative numbers are not prime.\n",
    "    # See if any of the low prime numbers can divide num:\n",
    "    for prime in LOW_PRIMES:\n",
    "        if (num % prime == 0):\n",
    "            return False\n",
    "        if (num == prime):\n",
    "            return True\n",
    "    # If all else fails, call rabinMiller() to determine if num is a prime:\n",
    "    return rabinMiller(num)"
   ]
  },
  {
   "cell_type": "markdown",
   "id": "e0f34a73",
   "metadata": {},
   "source": [
    "**Question:** Check the algorithm and try different values"
   ]
  },
  {
   "cell_type": "code",
   "execution_count": 14,
   "id": "a1f2e9dc",
   "metadata": {},
   "outputs": [
    {
     "data": {
      "text/plain": [
       "False"
      ]
     },
     "execution_count": 14,
     "metadata": {},
     "output_type": "execute_result"
    }
   ],
   "source": [
    "# This is an exmaple\n",
    "isPrime(2048)"
   ]
  },
  {
   "cell_type": "markdown",
   "id": "cb13ac05",
   "metadata": {},
   "source": [
    "# Large prime number generation"
   ]
  },
  {
   "cell_type": "code",
   "execution_count": 15,
   "id": "8d94f4aa",
   "metadata": {},
   "outputs": [],
   "source": [
    "def generateLargePrime(keysize=1024):\n",
    "    # Return a random prime number that is keysize bits in size.\n",
    "    i=0\n",
    "    while True:\n",
    "        num = random.randrange(2**(keysize-1), 2**(keysize))\n",
    "        #print('random number', i, hex(num))\n",
    "        i = i + 1\n",
    "        if isPrime(num):\n",
    "            #print('number of tries:', i)\n",
    "            return num"
   ]
  },
  {
   "cell_type": "markdown",
   "id": "fddbe58b",
   "metadata": {},
   "source": [
    "**Question:** Explain the algorithm and generate different prime numbers. What can you say?"
   ]
  },
  {
   "cell_type": "code",
   "execution_count": 16,
   "id": "bbebadd6",
   "metadata": {},
   "outputs": [
    {
     "name": "stdout",
     "output_type": "stream",
     "text": [
      "0x93601f\n"
     ]
    }
   ],
   "source": [
    "key = generateLargePrime(24)\n",
    "print(hex(key))"
   ]
  },
  {
   "cell_type": "markdown",
   "id": "3c3cf0a8",
   "metadata": {},
   "source": [
    "# Part 2: RSA Algorithm"
   ]
  },
  {
   "cell_type": "markdown",
   "id": "4d7e7f7b",
   "metadata": {},
   "source": [
    "# RSA public key and private key generation"
   ]
  },
  {
   "cell_type": "code",
   "execution_count": 17,
   "id": "9becceae",
   "metadata": {},
   "outputs": [],
   "source": [
    "def generateKey(keySize):\n",
    "    # Creates a public/private keys keySize bits in size.\n",
    "    p = 0\n",
    "    q = 0\n",
    "    # Step 1: Create two prime numbers, p and q. Calculate n = p * q.\n",
    "    print('Generating p & q primes...')\n",
    "    while p == q:\n",
    "        p = generateLargePrime(keySize)\n",
    "        q = generateLargePrime(keySize)\n",
    "    n = p * q\n",
    "\n",
    "    # Step 2: Create a number e that is relatively prime to (p-1)*(q-1):\n",
    "    print('Generating e that is relatively prime to (p-1)*(q-1)...')\n",
    "    while True:\n",
    "        # Keep trying random numbers for e until one is valid:\n",
    "        e = random.randrange(2 ** (keySize - 1), 2 ** (keySize))\n",
    "        if gcd(e, (p - 1) * (q - 1)) == 1:\n",
    "            break\n",
    "\n",
    "    # Step 3: Calculate d, the mod inverse of e:\n",
    "    print('Calculating d that is mod inverse of e...')\n",
    "    d = findModInverse(e, (p - 1) * (q - 1))\n",
    "\n",
    "    publicKey = (n, e)\n",
    "    privateKey = (n, d)\n",
    "\n",
    "    return (publicKey, privateKey)"
   ]
  },
  {
   "cell_type": "markdown",
   "id": "f9f77838",
   "metadata": {},
   "source": [
    "**Question:** Explain the algorithm and run it several times."
   ]
  },
  {
   "cell_type": "code",
   "execution_count": 18,
   "id": "c85b8022",
   "metadata": {},
   "outputs": [
    {
     "name": "stdout",
     "output_type": "stream",
     "text": [
      "Generating p & q primes...\n",
      "Generating e that is relatively prime to (p-1)*(q-1)...\n",
      "Calculating d that is mod inverse of e...\n",
      "Public key: (77942802977250303913701122038036502620833098300622821145749640561728505309767, 218882845325691719870993322518699622667)\n",
      "Private key: (77942802977250303913701122038036502620833098300622821145749640561728505309767, 17974356483684588619698046000643647812347129502184819644081467579178235300603)\n"
     ]
    }
   ],
   "source": [
    "# This is an example\n",
    "publicKey, privateKey = generateKey(128)\n",
    "print('Public key:', publicKey)\n",
    "print('Private key:', privateKey)"
   ]
  },
  {
   "cell_type": "markdown",
   "id": "4a811978",
   "metadata": {},
   "source": [
    "# Storing public and private keys into files"
   ]
  },
  {
   "cell_type": "code",
   "execution_count": 19,
   "id": "d651dbb0",
   "metadata": {},
   "outputs": [],
   "source": [
    "def makeKeyFiles(name, keySize):\n",
    "    # Creates two files 'x_pubkey.txt' and 'x_privkey.txt' (where x\n",
    "    # is the value in name) with the n,e and d,e integers written in\n",
    "    # them, delimited by a comma.\n",
    "\n",
    "    # Our safety check will prevent us from overwriting our old key files:\n",
    "    if os.path.exists('%s_pubkey.txt' % (name)) or os.path.exists('%s_privkey.txt' % (name)):\n",
    "        sys.exit('WARNING: The file %s_pubkey.txt or %s_privkey.txt already exists! Use a different name or delete these files and re-run this program.' % (name, name))\n",
    "\n",
    "    publicKey, privateKey = generateKey(keySize)\n",
    "\n",
    "    print()\n",
    "    print('The public key is a %s and a %s digit number.' % (len(str(publicKey[0])), len(str(publicKey[1]))))\n",
    "    print('Writing public key to file %s_pubkey.txt...' % (name))\n",
    "    fo = open('%s_pubkey.txt' % (name), 'w')\n",
    "    fo.write('%s,%s,%s' % (keySize, publicKey[0], publicKey[1]))\n",
    "    fo.close()\n",
    "\n",
    "    print()\n",
    "    print('The private key is a %s and a %s digit number.' % (len(str(publicKey[0])), len(str(publicKey[1]))))\n",
    "    print('Writing private key to file %s_privkey.txt...' % (name))\n",
    "    fo = open('%s_privkey.txt' % (name), 'w')\n",
    "    fo.write('%s,%s,%s' % (keySize, privateKey[0], privateKey[1]))\n",
    "    fo.close()"
   ]
  },
  {
   "cell_type": "markdown",
   "id": "671bc430",
   "metadata": {},
   "source": [
    "**Question:** Explain the **makeKeyFiles** function and verify files have been generated"
   ]
  },
  {
   "cell_type": "code",
   "execution_count": 21,
   "id": "b7b04763",
   "metadata": {},
   "outputs": [
    {
     "name": "stdout",
     "output_type": "stream",
     "text": [
      "Making key files...\n",
      "Generating p & q primes...\n",
      "Generating e that is relatively prime to (p-1)*(q-1)...\n",
      "Calculating d that is mod inverse of e...\n",
      "\n",
      "The public key is a 617 and a 308 digit number.\n",
      "Writing public key to file your_file_pubkey.txt...\n",
      "\n",
      "The private key is a 617 and a 308 digit number.\n",
      "Writing private key to file your_file_privkey.txt...\n",
      "Key files made.\n"
     ]
    }
   ],
   "source": [
    "# Create a public/private keypair with 1024 bit keys:\n",
    "print('Making key files...')\n",
    "makeKeyFiles('your_file', 1024)\n",
    "print('Key files made.')\n"
   ]
  },
  {
   "cell_type": "markdown",
   "id": "da7de00b",
   "metadata": {},
   "source": [
    "# RSA encryption"
   ]
  },
  {
   "cell_type": "code",
   "execution_count": 22,
   "id": "9d222451",
   "metadata": {},
   "outputs": [],
   "source": [
    "# IMPORTANT: The block size MUST be less than or equal to the key size!\n",
    "# (Note: The block size is in bytes, the key size is in bits. There\n",
    "# are 8 bits in 1 byte.)\n",
    "\n",
    "DEFAULT_BLOCK_SIZE = 128 # 128 bytes\n",
    "BYTE_SIZE = 256 # One byte has 256 different values.\n",
    "\n",
    "def getBlocksFromText(message, blockSize=DEFAULT_BLOCK_SIZE):\n",
    "    # Converts a string message to a list of block integers. Each integer\n",
    "    # represents 128 (or whatever blockSize is set to) string characters.\n",
    "\n",
    "    messageBytes = message.encode('ascii') # convert the string to bytes\n",
    "\n",
    "    blockInts = []\n",
    "    for blockStart in range(0, len(messageBytes), blockSize):\n",
    "        # Calculate the block integer for this block of text\n",
    "        blockInt = 0\n",
    "        for i in range(blockStart, min(blockStart + blockSize, len(messageBytes))):\n",
    "            blockInt += messageBytes[i] * (BYTE_SIZE ** (i % blockSize))\n",
    "        blockInts.append(blockInt)\n",
    "    return blockInts\n",
    "\n",
    "\n",
    "def encryptMessage(message, key, blockSize=DEFAULT_BLOCK_SIZE):\n",
    "    # Converts the message string into a list of block integers, and then\n",
    "    # encrypts each block integer. Pass the PUBLIC key to encrypt.\n",
    "    encryptedBlocks = []\n",
    "    n, e = key\n",
    "\n",
    "    for block in getBlocksFromText(message, blockSize):\n",
    "        # ciphertext = plaintext ^ e mod n\n",
    "        encryptedBlocks.append(pow(block, e, n))\n",
    "    return encryptedBlocks\n",
    "\n",
    "\n",
    "def readKeyFile(keyFilename):\n",
    "    # Given the filename of a file that contains a public or private key,\n",
    "    # return the key as a (n,e) or (n,d) tuple value.\n",
    "    fo = open(keyFilename)\n",
    "    content = fo.read()\n",
    "    fo.close()\n",
    "    keySize, n, EorD = content.split(',')\n",
    "    return (int(keySize), int(n), int(EorD))\n",
    "\n",
    "\n",
    "def encryptAndWriteToFile(messageFilename, keyFilename, message, blockSize=DEFAULT_BLOCK_SIZE):\n",
    "    # Using a key from a key file, encrypt the message and save it to a\n",
    "    # file. Returns the encrypted message string.\n",
    "    keySize, n, e = readKeyFile(keyFilename)\n",
    "\n",
    "    # Check that key size is greater than block size.\n",
    "    if keySize < blockSize * 8: # * 8 to convert bytes to bits\n",
    "        sys.exit('ERROR: Block size is %s bits and key size is %s bits. The RSA cipher requires the block size to be equal to or greater than the key size. Either decrease the block size or use different keys.' % (blockSize * 8, keySize))\n",
    "\n",
    "    # Encrypt the message\n",
    "    encryptedBlocks = encryptMessage(message, (n, e), blockSize)\n",
    "\n",
    "    # Convert the large int values to one string value.\n",
    "    for i in range(len(encryptedBlocks)):\n",
    "        encryptedBlocks[i] = str(encryptedBlocks[i])\n",
    "    encryptedContent = ','.join(encryptedBlocks)\n",
    "\n",
    "    # Write out the encrypted string to the output file.\n",
    "    encryptedContent = '%s_%s_%s' % (len(message), blockSize, encryptedContent)\n",
    "    fo = open(messageFilename, 'w')\n",
    "    fo.write(encryptedContent)\n",
    "    fo.close()\n",
    "    # Also return the encrypted string.\n",
    "    return encryptedContent"
   ]
  },
  {
   "cell_type": "markdown",
   "id": "cb2238ea",
   "metadata": {},
   "source": [
    "**Question:** Explain the encryption process. Try it for different messages."
   ]
  },
  {
   "cell_type": "code",
   "execution_count": 23,
   "id": "f52426ef",
   "metadata": {},
   "outputs": [
    {
     "name": "stdout",
     "output_type": "stream",
     "text": [
      "Encrypting and writing to encrypted_file.txt...\n",
      "Encrypted text:\n",
      "262_128_4491404762582767725055064877046695037100495025640223247341922334754265692906982058556661088790012590635490806380963860834598286219808801722500476497107476051472772654004869893778937082211293953634983854407658775560149504146633889276470396399296785243149955562435443154798325819396091106489203101658848063149154252948499958711238442093689565957134167120618360996979451824442163460540029651396089773003280362709211454292109990191388295872516479405252980185459042564322953576687416406043807178530247325007706649905326878760171039172440681047223647263311363661418444291881438044126542711721784888163071671200015467099023,7872078144777407704257147921871378711707269567475722602998106358063469233658996475749627406722456279905792861776769745089457302394373338929479967912627870643357996146118629766393960445088997068378929149538928530346831272377237262579970437205544991093285996042664835383863058442348353584090944479830958989799025431387409851155697922593535237157368177803166515491264024578126541826456642927617655953096012739947357469882265035588461410685184791828696975914496130610691278085764126203785302496581597265709242451720050144072062417737916330007833460478799924659549945854977348963836587721497794434989693404043783425828635,5492944278993974441215338126755196356433396896941188368228807637746213967630710170149404296421218339496466393417297967347968772249332163473067183926196620859797506103832537890662680816946952821264935428084560087756276703868556101951587190702048838359932315432299516117912201680652787336929887133323828344838907300901468094045000000818465287333471301689456717225849973506813252188597999112540883415410601088277315990948977539480332266323941281667344726075356132182995331922132895345889934027703253867524848646135249286246603996370077117149187647103476144251298849949642675674110359573690438024703636693941529165131450\n"
     ]
    }
   ],
   "source": [
    "# Runs a test that encrypts a message to a file or decrypts a message\n",
    "# from a file.\n",
    "filename = 'encrypted_file.txt' # the file to write to/read from\n",
    "\n",
    "message = '''\"Journalists belong in the gutter because that is where the ruling classes throw their guilty secrets.\" -Gerald Priestland \"The Founding Fathers gave the free press the protection it must have to bare the secrets of government and inform the people.\" -Hugo Black'''\n",
    "pubKeyFilename = 'your_file_pubkey.txt'\n",
    "print('Encrypting and writing to %s...' % (filename))\n",
    "encryptedText = encryptAndWriteToFile(filename, pubKeyFilename, message)\n",
    "\n",
    "print('Encrypted text:')\n",
    "print(encryptedText)"
   ]
  },
  {
   "cell_type": "markdown",
   "id": "91ee6399",
   "metadata": {},
   "source": [
    "**Question:** Instead of writing the message, propose a new function that read a file containing the plaintext (message) and save it in the message variable."
   ]
  },
  {
   "cell_type": "markdown",
   "id": "d9278d9c",
   "metadata": {},
   "source": [
    "# RSA decryption"
   ]
  },
  {
   "cell_type": "code",
   "execution_count": 24,
   "id": "7833f50b",
   "metadata": {},
   "outputs": [],
   "source": [
    "# IMPORTANT: The block size MUST be less than or equal to the key size!\n",
    "# (Note: The block size is in bytes, the key size is in bits. There\n",
    "# are 8 bits in 1 byte.)\n",
    "\n",
    "DEFAULT_BLOCK_SIZE = 128 # 128 bytes\n",
    "BYTE_SIZE = 256 # One byte has 256 different values.\n",
    "\n",
    "def getTextFromBlocks(blockInts, messageLength, blockSize=DEFAULT_BLOCK_SIZE):\n",
    "    # Converts a list of block integers to the original message string.\n",
    "    # The original message length is needed to properly convert the last\n",
    "    # block integer.\n",
    "    message = []\n",
    "    for blockInt in blockInts:\n",
    "        blockMessage = []\n",
    "        for i in range(blockSize - 1, -1, -1):\n",
    "            if len(message) + i < messageLength:\n",
    "                # Decode the message string for the 128 (or whatever\n",
    "                # blockSize is set to) characters from this block integer.\n",
    "                asciiNumber = blockInt // (BYTE_SIZE ** i)\n",
    "                blockInt = blockInt % (BYTE_SIZE ** i)\n",
    "                blockMessage.insert(0, chr(asciiNumber))\n",
    "        message.extend(blockMessage)\n",
    "    return ''.join(message)\n",
    "\n",
    "def decryptMessage(encryptedBlocks, messageLength, key, blockSize=DEFAULT_BLOCK_SIZE):\n",
    "    # Decrypts a list of encrypted block ints into the original message\n",
    "    # string. The original message length is required to properly decrypt\n",
    "    # the last block. Be sure to pass the PRIVATE key to decrypt.\n",
    "    decryptedBlocks = []\n",
    "    n, d = key\n",
    "    for block in encryptedBlocks:\n",
    "        # plaintext = ciphertext ^ d mod n\n",
    "        decryptedBlocks.append(pow(block, d, n))\n",
    "    return getTextFromBlocks(decryptedBlocks, messageLength, blockSize)\n",
    "\n",
    "def readFromFileAndDecrypt(messageFilename, keyFilename):\n",
    "    # Using a key from a key file, read an encrypted message from a file\n",
    "    # and then decrypt it. Returns the decrypted message string.\n",
    "    keySize, n, d = readKeyFile(keyFilename)\n",
    "\n",
    "\n",
    "    # Read in the message length and the encrypted message from the file.\n",
    "    fo = open(messageFilename)\n",
    "    content = fo.read()\n",
    "    messageLength, blockSize, encryptedMessage = content.split('_')\n",
    "    messageLength = int(messageLength)\n",
    "    blockSize = int(blockSize)\n",
    "\n",
    "    # Check that key size is greater than block size.\n",
    "    if keySize < blockSize * 8: # * 8 to convert bytes to bits\n",
    "        sys.exit('ERROR: Block size is %s bits and key size is %s bits. The RSA cipher requires the block size to be equal to or greater than the key size. Did you specify the correct key file and encrypted file?' % (blockSize * 8, keySize))\n",
    "\n",
    "    # Convert the encrypted message into large int values.\n",
    "    encryptedBlocks = []\n",
    "    for block in encryptedMessage.split(','):\n",
    "        encryptedBlocks.append(int(block))\n",
    "\n",
    "    # Decrypt the large int values.\n",
    "    return decryptMessage(encryptedBlocks, messageLength, (n, d), blockSize)\n"
   ]
  },
  {
   "cell_type": "markdown",
   "id": "16af6834",
   "metadata": {},
   "source": [
    "**Question:** Explain the decryption process. Try it for different ciphertexts."
   ]
  },
  {
   "cell_type": "code",
   "execution_count": 25,
   "id": "78d47cd3",
   "metadata": {},
   "outputs": [
    {
     "name": "stdout",
     "output_type": "stream",
     "text": [
      "Reading from encrypted_file.txt and decrypting...\n",
      "Decrypted text:\n",
      "\"Journalists belong in the gutter because that is where the ruling classes throw their guilty secrets.\" -Gerald Priestland \"The Founding Fathers gave the free press the protection it must have to bare the secrets of government and inform the people.\" -Hugo Black\n"
     ]
    }
   ],
   "source": [
    "privKeyFilename = 'your_file_privkey.txt'\n",
    "print('Reading from %s and decrypting...' % (filename))\n",
    "decryptedText = readFromFileAndDecrypt(filename, privKeyFilename)\n",
    "\n",
    "print('Decrypted text:')\n",
    "print(decryptedText)"
   ]
  },
  {
   "cell_type": "markdown",
   "id": "997d6b58",
   "metadata": {},
   "source": [
    "Encrypt file"
   ]
  },
  {
   "cell_type": "code",
   "execution_count": 34,
   "id": "38f248be",
   "metadata": {},
   "outputs": [],
   "source": [
    "def encryptFile(messageFilename, keyFilename, blockSize=DEFAULT_BLOCK_SIZE):\n",
    "    # Using a key from a key file, encrypt the message and save it to a\n",
    "    # file. Returns the encrypted message string.\n",
    "    keySize, n, e = readKeyFile(keyFilename)\n",
    "\n",
    "    # Check that key size is greater than block size.\n",
    "    if keySize < blockSize * 8: # * 8 to convert bytes to bits\n",
    "        sys.exit('ERROR: Block size is %s bits and key size is %s bits. The RSA cipher requires the block size to be equal to or greater than the key size. Either decrease the block size or use different keys.' % (blockSize * 8, keySize))\n",
    "\n",
    "    # Encrypt the message\n",
    "    messageLength = 0\n",
    "    encryptedBlocks = []\n",
    "    with open(messageFilename, \"rb\") as f:\n",
    "        bytes = f.read()\n",
    "        encryptedBlocks.append(encryptMessage(str(bytes), (n, e), blockSize))\n",
    "        messageLength = len(str(bytes))\n",
    "        f.close()\n",
    "    # Convert the large int values to one string value.\n",
    "    for i in range(len(encryptedBlocks)):\n",
    "        encryptedBlocks[i] = str(encryptedBlocks[i])\n",
    "    encryptedContent = ','.join(encryptedBlocks)\n",
    "\n",
    "    # Write out the encrypted string to the output file.\n",
    "    encryptedContent = '%s_%s_%s' % (messageLength, blockSize, encryptedContent.replace('[','').replace(']',''))\n",
    "    fo = open(messageFilename, 'w')\n",
    "    fo.write(encryptedContent)\n",
    "    fo.close()\n",
    "    # Also return the encrypted string.\n",
    "    return encryptedContent"
   ]
  },
  {
   "cell_type": "code",
   "execution_count": 32,
   "id": "183b99c0",
   "metadata": {},
   "outputs": [
    {
     "name": "stdout",
     "output_type": "stream",
     "text": [
      "Encrypting and writing to sffl.pdf...\n"
     ]
    }
   ],
   "source": [
    "filename = 'sffl.pdf' # the file to write to/read from\n",
    "\n",
    "pubKeyFilename = 'your_file_pubkey.txt'\n",
    "print('Encrypting and writing to %s...' % (filename))\n",
    "encryptedText = encryptFile(filename,pubKeyFilename)"
   ]
  },
  {
   "cell_type": "markdown",
   "id": "cf65c800",
   "metadata": {},
   "source": [
    "decrypt"
   ]
  },
  {
   "cell_type": "code",
   "execution_count": 35,
   "id": "ca4d8cc9",
   "metadata": {},
   "outputs": [],
   "source": [
    "def decryptFile(filename,privKeyFilename):\n",
    "    print('Reading from %s and decrypting...' % (filename))\n",
    "    decryptedText = readFromFileAndDecrypt(filename, privKeyFilename)\n",
    "    exec(\"open('%s','wb').write(%s)\" % (filename,decryptedText))\n",
    "    print('File decrypted with success')"
   ]
  },
  {
   "cell_type": "code",
   "execution_count": 38,
   "id": "21920298",
   "metadata": {},
   "outputs": [
    {
     "name": "stdout",
     "output_type": "stream",
     "text": [
      "Reading from sffl.pdf and decrypting...\n",
      "File decrypted with success\n"
     ]
    }
   ],
   "source": [
    "filename = 'sffl.pdf'\n",
    "privKeyFilename = 'your_file_privkey.txt'\n",
    "decryptFile(filename,privKeyFilename)"
   ]
  }
 ],
 "metadata": {
  "kernelspec": {
   "display_name": "Python 3.11.2 64-bit",
   "language": "python",
   "name": "python3"
  },
  "language_info": {
   "codemirror_mode": {
    "name": "ipython",
    "version": 3
   },
   "file_extension": ".py",
   "mimetype": "text/x-python",
   "name": "python",
   "nbconvert_exporter": "python",
   "pygments_lexer": "ipython3",
   "version": "3.10.10"
  },
  "vscode": {
   "interpreter": {
    "hash": "c261aea317cc0286b3b3261fbba9abdec21eaa57589985bb7a274bf54d6cc0a7"
   }
  }
 },
 "nbformat": 4,
 "nbformat_minor": 5
}
